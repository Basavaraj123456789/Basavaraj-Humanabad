{
 "cells": [
  {
   "cell_type": "code",
   "execution_count": 1,
   "id": "f1cd7487-9794-4907-89f8-273012a55780",
   "metadata": {},
   "outputs": [],
   "source": [
    "import pandas as pd\n",
    "import numpy as np\n",
    "import matplotlib.pyplot as plt\n",
    "import seaborn as sns"
   ]
  },
  {
   "cell_type": "markdown",
   "id": "062b5da4-6f8d-4653-ac49-94fe8458e39c",
   "metadata": {},
   "source": [
    "# Part 1: Data Processing and Feature Engineering (Day 1)\n",
    "# 1. Data Cleaning"
   ]
  },
  {
   "cell_type": "markdown",
   "id": "3cbee94c-1c02-4810-94d0-5c46ecc85067",
   "metadata": {},
   "source": [
    "# Load the dataset using Pandas."
   ]
  },
  {
   "cell_type": "code",
   "execution_count": 2,
   "id": "a497606f-4c23-4028-b81a-70ef592372a3",
   "metadata": {},
   "outputs": [],
   "source": [
    "train = pd.read_csv(r'C:\\Users\\Basavaraj Humanabad\\Documents\\train.csv')\n",
    "test = pd.read_csv(r'C:\\Users\\Basavaraj Humanabad\\Documents\\test.csv')\n",
    "stores = pd.read_csv(r'C:\\Users\\Basavaraj Humanabad\\Documents\\stores.csv')\n",
    "oil = pd.read_csv(r'C:\\Users\\Basavaraj Humanabad\\Documents\\oil.csv')\n",
    "holidays = pd.read_csv(r'C:\\Users\\Basavaraj Humanabad\\Documents\\holidays_events.csv')"
   ]
  },
  {
   "cell_type": "markdown",
   "id": "7436714e-2f58-4a6c-af2e-e832394d6deb",
   "metadata": {},
   "source": [
    "# Convert date columns to datetime format"
   ]
  },
  {
   "cell_type": "code",
   "execution_count": 3,
   "id": "786f9777-9588-42d8-b919-e3fd73c6c5d4",
   "metadata": {},
   "outputs": [],
   "source": [
    "train['date'] = pd.to_datetime(train['date'])\n",
    "test['date'] = pd.to_datetime(test['date'])\n",
    "oil['date'] = pd.to_datetime(oil['date'])\n",
    "holidays['date'] = pd.to_datetime(holidays['date'])"
   ]
  },
  {
   "cell_type": "markdown",
   "id": "306132c7-8f76-4b4a-be1a-032b2b01c250",
   "metadata": {},
   "source": [
    "# Convert date columns to datetime format"
   ]
  },
  {
   "cell_type": "code",
   "execution_count": 4,
   "id": "ea9ea01b-5fbd-4aac-8c94-e073d39567c6",
   "metadata": {},
   "outputs": [],
   "source": [
    "train['date'] = pd.to_datetime(train['date'])\n",
    "test['date'] = pd.to_datetime(test['date'])\n",
    "oil['date'] = pd.to_datetime(oil['date'])\n",
    "holidays['date'] = pd.to_datetime(holidays['date'])"
   ]
  },
  {
   "cell_type": "markdown",
   "id": "201b6b37-1b05-45c1-8d8b-8b0f88754214",
   "metadata": {},
   "source": [
    "# Fill missing values in oil prices using interpolation"
   ]
  },
  {
   "cell_type": "code",
   "execution_count": 5,
   "id": "96d801b1-52f3-43ba-bbd1-87136d539704",
   "metadata": {},
   "outputs": [
    {
     "data": {
      "text/plain": [
       "0         NaN\n",
       "1       93.14\n",
       "2       92.97\n",
       "3       93.12\n",
       "4       93.20\n",
       "        ...  \n",
       "1213    47.65\n",
       "1214    46.40\n",
       "1215    46.46\n",
       "1216    45.96\n",
       "1217    47.26\n",
       "Name: dcoilwtico, Length: 1218, dtype: float64"
      ]
     },
     "execution_count": 5,
     "metadata": {},
     "output_type": "execute_result"
    }
   ],
   "source": [
    "oil['dcoilwtico'] = oil['dcoilwtico'].interpolate()\n",
    "oil['dcoilwtico'] "
   ]
  },
  {
   "cell_type": "markdown",
   "id": "1bc9b5d9-3418-46d8-a818-05abd40245bb",
   "metadata": {},
   "source": [
    "# Merge data"
   ]
  },
  {
   "cell_type": "code",
   "execution_count": 6,
   "id": "28d1aa3d-3df5-4a08-9724-0f9673fa06a8",
   "metadata": {},
   "outputs": [],
   "source": [
    "train = train.merge(stores, on='store_nbr', how='left')\n",
    "train = train.merge(oil, on='date', how='left')\n",
    "train = train.merge(holidays, on='date', how='left')\n",
    "\n",
    "test = test.merge(stores, on='store_nbr', how='left')\n",
    "test = test.merge(oil, on='date', how='left')\n",
    "test = test.merge(holidays, on='date', how='left')"
   ]
  },
  {
   "cell_type": "markdown",
   "id": "ad7c2766-ceeb-4877-9276-e068fda86787",
   "metadata": {},
   "source": [
    "# 2.Feature Engineering"
   ]
  },
  {
   "cell_type": "code",
   "execution_count": 7,
   "id": "c3ead6ca-97f3-4287-838d-90d0955e2ff2",
   "metadata": {},
   "outputs": [],
   "source": [
    "train['day'] = train['date'].dt.day\n",
    "train['week'] = train['date'].dt.isocalendar().week\n",
    "train['month'] = train['date'].dt.month\n",
    "train['year'] = train['date'].dt.year\n",
    "train['day_of_week'] = train['date'].dt.dayofweek\n",
    "train['is_weekend'] = train['day_of_week'].isin([5,6]).astype(int)\n",
    "train['is_december'] = (train['month'] == 12).astype(int)"
   ]
  },
  {
   "cell_type": "markdown",
   "id": "05d16352-9269-43ff-aee3-58704a3df2ca",
   "metadata": {},
   "source": [
    "# Identify seasonal trends (e.g., are sales higher in December?)."
   ]
  },
  {
   "cell_type": "code",
   "execution_count": 8,
   "id": "64fcd729-97ef-4ed3-9c62-64770379d599",
   "metadata": {},
   "outputs": [
    {
     "data": {
      "text/plain": [
       "0          0\n",
       "1          0\n",
       "2          0\n",
       "3          0\n",
       "4          0\n",
       "          ..\n",
       "3054343    0\n",
       "3054344    0\n",
       "3054345    0\n",
       "3054346    0\n",
       "3054347    0\n",
       "Name: is_december, Length: 3054348, dtype: int32"
      ]
     },
     "execution_count": 8,
     "metadata": {},
     "output_type": "execute_result"
    }
   ],
   "source": [
    "train[\"is_december\"] = (train[\"month\"] == 12).astype(int)\n",
    "train[\"is_december\"]"
   ]
  },
  {
   "cell_type": "markdown",
   "id": "9233f1a3-68cf-4f9d-a821-2b4eff5ed879",
   "metadata": {},
   "source": [
    "# Event-based Features:Create binary flags for holidays, promotions, and economic events."
   ]
  },
  {
   "cell_type": "code",
   "execution_count": 9,
   "id": "6087aa06-1a2b-4375-aba4-e0d6e18245a8",
   "metadata": {},
   "outputs": [
    {
     "data": {
      "text/plain": [
       "0          1\n",
       "1          1\n",
       "2          1\n",
       "3          1\n",
       "4          1\n",
       "          ..\n",
       "3054343    1\n",
       "3054344    1\n",
       "3054345    1\n",
       "3054346    1\n",
       "3054347    1\n",
       "Name: is_holiday, Length: 3054348, dtype: int32"
      ]
     },
     "execution_count": 9,
     "metadata": {},
     "output_type": "execute_result"
    }
   ],
   "source": [
    "train[\"is_holiday\"] = train[\"type_x\"].notna().astype(int)\n",
    "train[\"is_holiday\"]"
   ]
  },
  {
   "cell_type": "markdown",
   "id": "684126f7-60fd-48c2-a53e-ba459c8ce719",
   "metadata": {},
   "source": [
    "# Identify if a day is a government payday (15th and last day of the month)."
   ]
  },
  {
   "cell_type": "code",
   "execution_count": 10,
   "id": "459b5545-15b5-4fc6-adbe-05a3d6f7f4fb",
   "metadata": {},
   "outputs": [
    {
     "data": {
      "text/plain": [
       "0          0\n",
       "1          0\n",
       "2          0\n",
       "3          0\n",
       "4          0\n",
       "          ..\n",
       "3054343    1\n",
       "3054344    1\n",
       "3054345    1\n",
       "3054346    1\n",
       "3054347    1\n",
       "Name: is_govt_payday, Length: 3054348, dtype: int32"
      ]
     },
     "execution_count": 10,
     "metadata": {},
     "output_type": "execute_result"
    }
   ],
   "source": [
    "train[\"is_govt_payday\"] = train[\"day\"].isin([15] + train[\"date\"].dt.days_in_month.tolist()).astype(int)\n",
    "train[\"is_govt_payday\"]"
   ]
  },
  {
   "cell_type": "markdown",
   "id": "1727011e-b2a9-410f-a24b-d93c206bee07",
   "metadata": {},
   "source": [
    "# Consider earthquake impact (April 16, 2016) as a separate feature."
   ]
  },
  {
   "cell_type": "code",
   "execution_count": 11,
   "id": "b7284490-4774-45a2-a2d9-8f5513c69229",
   "metadata": {},
   "outputs": [
    {
     "data": {
      "text/plain": [
       "0          0\n",
       "1          0\n",
       "2          0\n",
       "3          0\n",
       "4          0\n",
       "          ..\n",
       "3054343    0\n",
       "3054344    0\n",
       "3054345    0\n",
       "3054346    0\n",
       "3054347    0\n",
       "Name: earthquake_impact, Length: 3054348, dtype: int32"
      ]
     },
     "execution_count": 11,
     "metadata": {},
     "output_type": "execute_result"
    }
   ],
   "source": [
    "train[\"earthquake_impact\"] = (train[\"date\"] == \"2016-04-16\").astype(int)\n",
    "train[\"earthquake_impact\"]"
   ]
  },
  {
   "cell_type": "markdown",
   "id": "d4a30347-c505-4092-b81a-12c6a2464807",
   "metadata": {},
   "source": [
    "# Rolling Statistics"
   ]
  },
  {
   "cell_type": "code",
   "execution_count": 12,
   "id": "14dbd304-7e45-4d18-b7aa-a7b8ea99e484",
   "metadata": {},
   "outputs": [],
   "source": [
    "train['sales_lag_7'] = train.groupby(['store_nbr', 'family'])['sales'].shift(7)\n",
    "train['sales_lag_30'] = train.groupby(['store_nbr', 'family'])['sales'].shift(30)\n",
    "train['rolling_mean_7'] = train.groupby(['store_nbr', 'family'])['sales'].transform(lambda x: x.rolling(window=7).mean())\n",
    "train['rolling_std_7'] = train.groupby(['store_nbr', 'family'])['sales'].transform(lambda x: x.rolling(window=7).std())"
   ]
  },
  {
   "cell_type": "markdown",
   "id": "ac882d1e-1baa-4a97-b092-ff6ff3a66a0a",
   "metadata": {},
   "source": [
    "# Store-Specific Aggregations"
   ]
  },
  {
   "cell_type": "code",
   "execution_count": null,
   "id": "8a6c3835-a693-4311-b6fa-66b5bc3c13dd",
   "metadata": {},
   "outputs": [],
   "source": [
    "store_sales_avg = train.groupby('store_nbr')['sales'].mean().rename('store_avg_sales')\n",
    "train = train.merge(store_sales_avg, on='store_nbr', how='left')\n",
    "train"
   ]
  },
  {
   "cell_type": "markdown",
   "id": "7b6eff28-bd51-4616-8702-273c05484adf",
   "metadata": {},
   "source": [
    "# 3.Exploratory Data Analysis (EDA)"
   ]
  },
  {
   "cell_type": "code",
   "execution_count": null,
   "id": "fd4bb682-e99e-4f3a-9b73-406e8ba4fc68",
   "metadata": {},
   "outputs": [],
   "source": [
    "plt.figure(figsize=(12,6))\n",
    "sns.lineplot(data=train, x='date', y='sales', ci=None)\n",
    "plt.title('Sales Trend Over Time')\n",
    "plt.xlabel('Date')\n",
    "plt.ylabel('Sales')\n",
    "plt.show()"
   ]
  },
  {
   "cell_type": "markdown",
   "id": "3611fcc3-cd9f-4004-93dc-764f43c4d455",
   "metadata": {},
   "source": [
    "# Checking correlation between oil prices and sales"
   ]
  },
  {
   "cell_type": "code",
   "execution_count": null,
   "id": "5f7e9ccd-3368-4a77-b2f1-d016c0f3ad6e",
   "metadata": {},
   "outputs": [],
   "source": [
    "plt.figure(figsize=(12,6))\n",
    "sns.scatterplot(data=train, x='dcoilwtico', y='sales')\n",
    "plt.title('Correlation between Oil Prices and Sales')\n",
    "plt.xlabel('Oil Price')\n",
    "plt.ylabel('Sales')\n",
    "plt.show()"
   ]
  },
  {
   "cell_type": "markdown",
   "id": "945f0278-a164-4b24-882f-6382eea98d7d",
   "metadata": {},
   "source": [
    "# Checking anomalies"
   ]
  },
  {
   "cell_type": "code",
   "execution_count": null,
   "id": "78f79170-2438-4174-89f8-bf4011b27834",
   "metadata": {},
   "outputs": [],
   "source": [
    "plt.figure(figsize=(12,6))\n",
    "sns.boxplot(data=train, y='sales')\n",
    "plt.title('Sales Distribution and Anomalies')\n",
    "plt.show()"
   ]
  },
  {
   "cell_type": "markdown",
   "id": "7abdda71-d227-4537-80d2-3ec4ce0afd36",
   "metadata": {},
   "source": [
    "# Documenting preprocessing steps"
   ]
  },
  {
   "cell_type": "code",
   "execution_count": null,
   "id": "2c59a6f6-f725-4a2a-879e-978ccc568d8e",
   "metadata": {},
   "outputs": [],
   "source": [
    "with open('preprocessing_documentation.txt', 'w') as f:\n",
    "    f.write(\"Data Processing and Feature Engineering Steps:\\n\")\n",
    "    f.write(\"1. Handled missing values in oil prices using interpolation.\\n\")\n",
    "    f.write(\"2. Converted date columns to proper datetime format.\\n\")\n",
    "    f.write(\"3. Merged stores, oil, and holidays data with sales data.\\n\")\n",
    "    f.write(\"4. Extracted time-based features: day, week, month, year, day_of_week.\\n\")\n",
    "    f.write(\"5. Created binary indicators for holidays, paydays, and economic events.\\n\")\n",
    "    f.write(\"6. Computed rolling sales statistics and lagged features.\\n\")\n",
    "    f.write(\"7. Performed store-specific aggregations for average sales.\\n\")\n",
    "    f.write(\"8. Conducted EDA with time series visualization and anomaly detection.\\n\")"
   ]
  },
  {
   "cell_type": "markdown",
   "id": "7d650f94-fdf7-4243-8749-fd72b99c1dfd",
   "metadata": {},
   "source": [
    "# Part 2: Model Selection, Forecasting, and Evaluation (Day 2)\n",
    "# 1. Model Training"
   ]
  },
  {
   "cell_type": "code",
   "execution_count": null,
   "id": "745561bc-696e-41cd-a0a8-4f4e8b763de4",
   "metadata": {},
   "outputs": [],
   "source": [
    "train.head(2)"
   ]
  },
  {
   "cell_type": "code",
   "execution_count": null,
   "id": "371bb101-6cc0-482a-b387-6247881e4ef4",
   "metadata": {},
   "outputs": [],
   "source": [
    "from sklearn.model_selection import train_test_split  # Import train_test_split\n",
    "\n",
    "# Define feature set and target variable\n",
    "X = train[['day', 'week', 'month', 'year', 'day_of_week', 'is_weekend', 'is_december', \n",
    "           'is_holiday', 'is_govt_payday', 'earthquake_impact', 'sales_lag_7', \n",
    "           'sales_lag_30', 'rolling_mean_7', 'rolling_std_7', 'store_avg_sales']]\n",
    "y = train['sales']\n",
    "\n",
    "# Perform train-test split\n",
    "X_train, X_val, y_train, y_val = train_test_split(X, y, test_size=0.2, random_state=42)"
   ]
  },
  {
   "cell_type": "code",
   "execution_count": null,
   "id": "f0ce4d2b-2f9c-4dd8-b3a5-6ffce09a4c1d",
   "metadata": {},
   "outputs": [],
   "source": [
    "# Import necessary library\n",
    "from sklearn.metrics import mean_absolute_error\n",
    "\n",
    "# Ensure that y_pred_baseline is properly defined\n",
    "y_pred_baseline = X_val['sales_lag_7'].fillna(y_train.mean())  # Fill NaNs with training mean\n",
    "\n",
    "# Compute Mean Absolute Error (MAE)\n",
    "mae_baseline = mean_absolute_error(y_val, y_pred_baseline)\n",
    "\n",
    "print(\"Baseline Model MAE:\", mae_baseline)"
   ]
  },
  {
   "cell_type": "code",
   "execution_count": null,
   "id": "e86c8fc8-9be9-461b-9054-091d0858fe3f",
   "metadata": {},
   "outputs": [],
   "source": []
  }
 ],
 "metadata": {
  "kernelspec": {
   "display_name": "Python 3 (ipykernel)",
   "language": "python",
   "name": "python3"
  },
  "language_info": {
   "codemirror_mode": {
    "name": "ipython",
    "version": 3
   },
   "file_extension": ".py",
   "mimetype": "text/x-python",
   "name": "python",
   "nbconvert_exporter": "python",
   "pygments_lexer": "ipython3",
   "version": "3.12.4"
  }
 },
 "nbformat": 4,
 "nbformat_minor": 5
}
